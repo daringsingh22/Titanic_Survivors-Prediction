{
  "cells": [
    {
      "cell_type": "markdown",
      "metadata": {
        "id": "view-in-github",
        "colab_type": "text"
      },
      "source": [
        "<a href=\"https://colab.research.google.com/github/daringsingh22/Titanic_Survivors-Prediction/blob/master/Titanic_Survivors_Prediction.ipynb\" target=\"_parent\"><img src=\"https://colab.research.google.com/assets/colab-badge.svg\" alt=\"Open In Colab\"/></a>"
      ]
    },
    {
      "cell_type": "markdown",
      "source": [],
      "metadata": {
        "id": "RseFl_GH_iB4"
      },
      "id": "RseFl_GH_iB4"
    },
    {
      "cell_type": "markdown",
      "id": "9b00f2f8-1014-42db-8f0a-5356a6fbf8bb",
      "metadata": {
        "id": "9b00f2f8-1014-42db-8f0a-5356a6fbf8bb"
      },
      "source": [
        "# Titanic Survivors Prediction"
      ]
    },
    {
      "cell_type": "markdown",
      "id": "b3eb0c8c-9f89-419d-b1c0-2a1e85edb8ef",
      "metadata": {
        "id": "b3eb0c8c-9f89-419d-b1c0-2a1e85edb8ef"
      },
      "source": [
        "Binary Classification using Logistic Regression"
      ]
    },
    {
      "cell_type": "markdown",
      "id": "f5a268e1-fcc4-4a06-a83d-b47b38c7a566",
      "metadata": {
        "id": "f5a268e1-fcc4-4a06-a83d-b47b38c7a566"
      },
      "source": [
        "Logistic regression is inherently designed for binary classification tasks, where the goal is to predict one of two possible outcomes. In the Titanic survivors prediction problem, the target variable (Survived) has two possible values: 0 (did not survive) or 1 (survived). <br><br>Logistic regression models the probability that a given input belongs to one of these two classes, making it an ideal choice for this problem."
      ]
    },
    {
      "cell_type": "markdown",
      "id": "2ab24149-c0b2-4b57-840a-c1b4e8456bbe",
      "metadata": {
        "id": "2ab24149-c0b2-4b57-840a-c1b4e8456bbe"
      },
      "source": [
        "## Importing Libraries"
      ]
    },
    {
      "cell_type": "code",
      "execution_count": null,
      "id": "45b12ac3-f8fb-4649-9e9c-658a0262f89a",
      "metadata": {
        "id": "45b12ac3-f8fb-4649-9e9c-658a0262f89a"
      },
      "outputs": [],
      "source": [
        "import pandas as pd\n",
        "import numpy as np\n",
        "import matplotlib.pyplot as plt\n",
        "import seaborn as sns\n",
        "%matplotlib inline\n",
        "import warnings\n",
        "warnings.filterwarnings(\"ignore\")\n",
        "from sklearn.linear_model import LogisticRegression\n",
        "from sklearn.model_selection import train_test_split, cross_val_score\n",
        "from sklearn.preprocessing import LabelEncoder\n",
        "from sklearn.metrics import classification_report, accuracy_score, ConfusionMatrixDisplay\n",
        "from scipy.stats import zscore\n",
        "import pickle"
      ]
    },
    {
      "cell_type": "markdown",
      "id": "17032d25-205a-481f-b86a-b6e34d5186e8",
      "metadata": {
        "id": "17032d25-205a-481f-b86a-b6e34d5186e8"
      },
      "source": [
        "## Load Dataset"
      ]
    },
    {
      "cell_type": "code",
      "execution_count": null,
      "id": "dadc4ea9-57cd-4e6a-afa2-e6f357662ed2",
      "metadata": {
        "id": "dadc4ea9-57cd-4e6a-afa2-e6f357662ed2",
        "outputId": "afec64fa-3c4d-4325-8400-2a67da6eb660"
      },
      "outputs": [
        {
          "data": {
            "text/html": [
              "<div>\n",
              "<style scoped>\n",
              "    .dataframe tbody tr th:only-of-type {\n",
              "        vertical-align: middle;\n",
              "    }\n",
              "\n",
              "    .dataframe tbody tr th {\n",
              "        vertical-align: top;\n",
              "    }\n",
              "\n",
              "    .dataframe thead th {\n",
              "        text-align: right;\n",
              "    }\n",
              "</style>\n",
              "<table border=\"1\" class=\"dataframe\">\n",
              "  <thead>\n",
              "    <tr style=\"text-align: right;\">\n",
              "      <th></th>\n",
              "      <th>PassengerId</th>\n",
              "      <th>Survived</th>\n",
              "      <th>Pclass</th>\n",
              "      <th>Name</th>\n",
              "      <th>Sex</th>\n",
              "      <th>Age</th>\n",
              "      <th>SibSp</th>\n",
              "      <th>Parch</th>\n",
              "      <th>Ticket</th>\n",
              "      <th>Fare</th>\n",
              "      <th>Cabin</th>\n",
              "      <th>Embarked</th>\n",
              "    </tr>\n",
              "  </thead>\n",
              "  <tbody>\n",
              "    <tr>\n",
              "      <th>0</th>\n",
              "      <td>1</td>\n",
              "      <td>0</td>\n",
              "      <td>3</td>\n",
              "      <td>Braund, Mr. Owen Harris</td>\n",
              "      <td>male</td>\n",
              "      <td>22.0</td>\n",
              "      <td>1</td>\n",
              "      <td>0</td>\n",
              "      <td>A/5 21171</td>\n",
              "      <td>7.2500</td>\n",
              "      <td>NaN</td>\n",
              "      <td>S</td>\n",
              "    </tr>\n",
              "    <tr>\n",
              "      <th>1</th>\n",
              "      <td>2</td>\n",
              "      <td>1</td>\n",
              "      <td>1</td>\n",
              "      <td>Cumings, Mrs. John Bradley (Florence Briggs Th...</td>\n",
              "      <td>female</td>\n",
              "      <td>38.0</td>\n",
              "      <td>1</td>\n",
              "      <td>0</td>\n",
              "      <td>PC 17599</td>\n",
              "      <td>71.2833</td>\n",
              "      <td>C85</td>\n",
              "      <td>C</td>\n",
              "    </tr>\n",
              "    <tr>\n",
              "      <th>2</th>\n",
              "      <td>3</td>\n",
              "      <td>1</td>\n",
              "      <td>3</td>\n",
              "      <td>Heikkinen, Miss. Laina</td>\n",
              "      <td>female</td>\n",
              "      <td>26.0</td>\n",
              "      <td>0</td>\n",
              "      <td>0</td>\n",
              "      <td>STON/O2. 3101282</td>\n",
              "      <td>7.9250</td>\n",
              "      <td>NaN</td>\n",
              "      <td>S</td>\n",
              "    </tr>\n",
              "  </tbody>\n",
              "</table>\n",
              "</div>"
            ],
            "text/plain": [
              "   PassengerId  Survived  Pclass  \\\n",
              "0            1         0       3   \n",
              "1            2         1       1   \n",
              "2            3         1       3   \n",
              "\n",
              "                                                Name     Sex   Age  SibSp  \\\n",
              "0                            Braund, Mr. Owen Harris    male  22.0      1   \n",
              "1  Cumings, Mrs. John Bradley (Florence Briggs Th...  female  38.0      1   \n",
              "2                             Heikkinen, Miss. Laina  female  26.0      0   \n",
              "\n",
              "   Parch            Ticket     Fare Cabin Embarked  \n",
              "0      0         A/5 21171   7.2500   NaN        S  \n",
              "1      0          PC 17599  71.2833   C85        C  \n",
              "2      0  STON/O2. 3101282   7.9250   NaN        S  "
            ]
          },
          "execution_count": 2,
          "metadata": {},
          "output_type": "execute_result"
        }
      ],
      "source": [
        "titanic_df = pd.read_csv(\"Titanic.csv\")\n",
        "titanic_df.head(3)"
      ]
    },
    {
      "cell_type": "markdown",
      "id": "63ca4dee-7979-4b2d-bc4b-e95db03d19ee",
      "metadata": {
        "id": "63ca4dee-7979-4b2d-bc4b-e95db03d19ee"
      },
      "source": [
        "## Data Dictionary"
      ]
    },
    {
      "cell_type": "markdown",
      "id": "b3fdf1e2-613d-4d8e-9977-26f4095cfd15",
      "metadata": {
        "scrolled": true,
        "id": "b3fdf1e2-613d-4d8e-9977-26f4095cfd15"
      },
      "source": [
        "![DataDictionary](DataDictionary.png)"
      ]
    },
    {
      "cell_type": "markdown",
      "id": "cfee59c4-3b1d-4979-b1d5-b9d7c6a0dcda",
      "metadata": {
        "id": "cfee59c4-3b1d-4979-b1d5-b9d7c6a0dcda"
      },
      "source": [
        "![VariableNotes](VariableNotes.png)"
      ]
    },
    {
      "cell_type": "markdown",
      "id": "a7784738-4ad9-4ed8-a876-bb6e4cb8bc95",
      "metadata": {
        "id": "a7784738-4ad9-4ed8-a876-bb6e4cb8bc95"
      },
      "source": [
        "## Data Exploration and Preprocessing"
      ]
    },
    {
      "cell_type": "code",
      "execution_count": null,
      "id": "5c2542b7-220d-4f35-bfd3-5fb962f12221",
      "metadata": {
        "id": "5c2542b7-220d-4f35-bfd3-5fb962f12221",
        "outputId": "07f3285f-631c-44d9-b379-1da807ff5113"
      },
      "outputs": [
        {
          "name": "stdout",
          "output_type": "stream",
          "text": [
            "<class 'pandas.core.frame.DataFrame'>\n",
            "RangeIndex: 891 entries, 0 to 890\n",
            "Data columns (total 12 columns):\n",
            " #   Column       Non-Null Count  Dtype  \n",
            "---  ------       --------------  -----  \n",
            " 0   PassengerId  891 non-null    int64  \n",
            " 1   Survived     891 non-null    int64  \n",
            " 2   Pclass       891 non-null    int64  \n",
            " 3   Name         891 non-null    object \n",
            " 4   Sex          891 non-null    object \n",
            " 5   Age          714 non-null    float64\n",
            " 6   SibSp        891 non-null    int64  \n",
            " 7   Parch        891 non-null    int64  \n",
            " 8   Ticket       891 non-null    object \n",
            " 9   Fare         891 non-null    float64\n",
            " 10  Cabin        204 non-null    object \n",
            " 11  Embarked     889 non-null    object \n",
            "dtypes: float64(2), int64(5), object(5)\n",
            "memory usage: 83.7+ KB\n"
          ]
        }
      ],
      "source": [
        "# Provides a concise summary of the DataFrame, including the number of non-null entries,\n",
        "# column names, and data types.\n",
        "titanic_df.info()"
      ]
    },
    {
      "cell_type": "code",
      "execution_count": null,
      "id": "dcbac9af-6fcf-4305-85e1-8a7a831c1952",
      "metadata": {
        "id": "dcbac9af-6fcf-4305-85e1-8a7a831c1952",
        "outputId": "64e0cc04-21e5-41e6-fb61-fb599b31f0ec"
      },
      "outputs": [
        {
          "data": {
            "text/html": [
              "<div>\n",
              "<style scoped>\n",
              "    .dataframe tbody tr th:only-of-type {\n",
              "        vertical-align: middle;\n",
              "    }\n",
              "\n",
              "    .dataframe tbody tr th {\n",
              "        vertical-align: top;\n",
              "    }\n",
              "\n",
              "    .dataframe thead th {\n",
              "        text-align: right;\n",
              "    }\n",
              "</style>\n",
              "<table border=\"1\" class=\"dataframe\">\n",
              "  <thead>\n",
              "    <tr style=\"text-align: right;\">\n",
              "      <th></th>\n",
              "      <th>PassengerId</th>\n",
              "      <th>Survived</th>\n",
              "      <th>Pclass</th>\n",
              "      <th>Age</th>\n",
              "      <th>SibSp</th>\n",
              "      <th>Parch</th>\n",
              "      <th>Fare</th>\n",
              "    </tr>\n",
              "  </thead>\n",
              "  <tbody>\n",
              "    <tr>\n",
              "      <th>count</th>\n",
              "      <td>891.000000</td>\n",
              "      <td>891.000000</td>\n",
              "      <td>891.000000</td>\n",
              "      <td>714.000000</td>\n",
              "      <td>891.000000</td>\n",
              "      <td>891.000000</td>\n",
              "      <td>891.000000</td>\n",
              "    </tr>\n",
              "    <tr>\n",
              "      <th>mean</th>\n",
              "      <td>446.000000</td>\n",
              "      <td>0.383838</td>\n",
              "      <td>2.308642</td>\n",
              "      <td>29.699118</td>\n",
              "      <td>0.523008</td>\n",
              "      <td>0.381594</td>\n",
              "      <td>32.204208</td>\n",
              "    </tr>\n",
              "    <tr>\n",
              "      <th>std</th>\n",
              "      <td>257.353842</td>\n",
              "      <td>0.486592</td>\n",
              "      <td>0.836071</td>\n",
              "      <td>14.526497</td>\n",
              "      <td>1.102743</td>\n",
              "      <td>0.806057</td>\n",
              "      <td>49.693429</td>\n",
              "    </tr>\n",
              "    <tr>\n",
              "      <th>min</th>\n",
              "      <td>1.000000</td>\n",
              "      <td>0.000000</td>\n",
              "      <td>1.000000</td>\n",
              "      <td>0.420000</td>\n",
              "      <td>0.000000</td>\n",
              "      <td>0.000000</td>\n",
              "      <td>0.000000</td>\n",
              "    </tr>\n",
              "    <tr>\n",
              "      <th>25%</th>\n",
              "      <td>223.500000</td>\n",
              "      <td>0.000000</td>\n",
              "      <td>2.000000</td>\n",
              "      <td>20.125000</td>\n",
              "      <td>0.000000</td>\n",
              "      <td>0.000000</td>\n",
              "      <td>7.910400</td>\n",
              "    </tr>\n",
              "    <tr>\n",
              "      <th>50%</th>\n",
              "      <td>446.000000</td>\n",
              "      <td>0.000000</td>\n",
              "      <td>3.000000</td>\n",
              "      <td>28.000000</td>\n",
              "      <td>0.000000</td>\n",
              "      <td>0.000000</td>\n",
              "      <td>14.454200</td>\n",
              "    </tr>\n",
              "    <tr>\n",
              "      <th>75%</th>\n",
              "      <td>668.500000</td>\n",
              "      <td>1.000000</td>\n",
              "      <td>3.000000</td>\n",
              "      <td>38.000000</td>\n",
              "      <td>1.000000</td>\n",
              "      <td>0.000000</td>\n",
              "      <td>31.000000</td>\n",
              "    </tr>\n",
              "    <tr>\n",
              "      <th>max</th>\n",
              "      <td>891.000000</td>\n",
              "      <td>1.000000</td>\n",
              "      <td>3.000000</td>\n",
              "      <td>80.000000</td>\n",
              "      <td>8.000000</td>\n",
              "      <td>6.000000</td>\n",
              "      <td>512.329200</td>\n",
              "    </tr>\n",
              "  </tbody>\n",
              "</table>\n",
              "</div>"
            ],
            "text/plain": [
              "       PassengerId    Survived      Pclass         Age       SibSp  \\\n",
              "count   891.000000  891.000000  891.000000  714.000000  891.000000   \n",
              "mean    446.000000    0.383838    2.308642   29.699118    0.523008   \n",
              "std     257.353842    0.486592    0.836071   14.526497    1.102743   \n",
              "min       1.000000    0.000000    1.000000    0.420000    0.000000   \n",
              "25%     223.500000    0.000000    2.000000   20.125000    0.000000   \n",
              "50%     446.000000    0.000000    3.000000   28.000000    0.000000   \n",
              "75%     668.500000    1.000000    3.000000   38.000000    1.000000   \n",
              "max     891.000000    1.000000    3.000000   80.000000    8.000000   \n",
              "\n",
              "            Parch        Fare  \n",
              "count  891.000000  891.000000  \n",
              "mean     0.381594   32.204208  \n",
              "std      0.806057   49.693429  \n",
              "min      0.000000    0.000000  \n",
              "25%      0.000000    7.910400  \n",
              "50%      0.000000   14.454200  \n",
              "75%      0.000000   31.000000  \n",
              "max      6.000000  512.329200  "
            ]
          },
          "execution_count": 4,
          "metadata": {},
          "output_type": "execute_result"
        }
      ],
      "source": [
        "# Generates descriptive statistics (e.g., mean, median, min, max) for numeric columns in the\n",
        "# DataFrame.\n",
        "titanic_df.describe()"
      ]
    },
    {
      "cell_type": "code",
      "execution_count": null,
      "id": "87a9975f-8e0d-4580-9d47-e91c6eb0e369",
      "metadata": {
        "id": "87a9975f-8e0d-4580-9d47-e91c6eb0e369",
        "outputId": "36fe5754-1f6f-4465-c045-30e1e775ed01"
      },
      "outputs": [
        {
          "data": {
            "text/plain": [
              "PassengerId      0\n",
              "Survived         0\n",
              "Pclass           0\n",
              "Name             0\n",
              "Sex              0\n",
              "Age            177\n",
              "SibSp            0\n",
              "Parch            0\n",
              "Ticket           0\n",
              "Fare             0\n",
              "Cabin          687\n",
              "Embarked         2\n",
              "dtype: int64"
            ]
          },
          "execution_count": 5,
          "metadata": {},
          "output_type": "execute_result"
        }
      ],
      "source": [
        "# Counts the number of missing (NaN) values in each column.\n",
        "titanic_df.isna().sum()"
      ]
    },
    {
      "cell_type": "code",
      "execution_count": null,
      "id": "c800ac77-5ab1-4726-8b54-3bfd2215aa0f",
      "metadata": {
        "id": "c800ac77-5ab1-4726-8b54-3bfd2215aa0f",
        "outputId": "cc843203-bbd1-4cba-8d77-62694aab1900"
      },
      "outputs": [
        {
          "data": {
            "text/plain": [
              "<Axes: >"
            ]
          },
          "execution_count": 6,
          "metadata": {},
          "output_type": "execute_result"
        },
        {
          "data": {
            "image/png": "[encoded data removed]",
            "text/plain": [
              "<Figure size 640x480 with 1 Axes>"
            ]
          },
          "metadata": {},
          "output_type": "display_data"
        }
      ],
      "source": [
        "# Visualizes the missing values using a heatmap to identify patterns or columns with many\n",
        "# missing values.\n",
        "sns.heatmap(titanic_df.isnull(),yticklabels=False,cbar=False,cmap='viridis')"
      ]
    },
    {
      "cell_type": "markdown",
      "id": "96ebe296-8f90-4a78-92dc-c8b6a1dbd858",
      "metadata": {
        "id": "96ebe296-8f90-4a78-92dc-c8b6a1dbd858"
      },
      "source": [
        "### Visualizing Data Distribution"
      ]
    },
    {
      "cell_type": "code",
      "execution_count": null,
      "id": "5c5de890-c512-400e-9ff7-59ca95951f77",
      "metadata": {
        "id": "5c5de890-c512-400e-9ff7-59ca95951f77",
        "outputId": "e990e322-19c8-434e-9b3e-61a70d3182d3"
      },
      "outputs": [
        {
          "data": {
            "text/plain": [
              "<Axes: xlabel='Survived', ylabel='count'>"
            ]
          },
          "execution_count": 7,
          "metadata": {},
          "output_type": "execute_result"
        },
        {
          "data": {
            "image/png": "[encoded data removed]",
            "text/plain": [
              "<Figure size 640x480 with 1 Axes>"
            ]
          },
          "metadata": {},
          "output_type": "display_data"
        }
      ],
      "source": [
        "# Displays the count of occurrences for each category (e.g., Survived, Sex, Pclass) in the dataset.\n",
        "sns.set_style('whitegrid')\n",
        "sns.countplot(x='Survived',data=titanic_df,palette='RdBu_r')"
      ]
    },
    {
      "cell_type": "code",
      "execution_count": null,
      "id": "d65a9dc9-2c18-468e-a11e-78ef5647dc1c",
      "metadata": {
        "id": "d65a9dc9-2c18-468e-a11e-78ef5647dc1c",
        "outputId": "f3493be5-54e6-43ad-d38c-5eb2bc78c598"
      },
      "outputs": [
        {
          "data": {
            "text/plain": [
              "<Axes: xlabel='Survived', ylabel='count'>"
            ]
          },
          "execution_count": 8,
          "metadata": {},
          "output_type": "execute_result"
        },
        {
          "data": {
            "image/png": "[encoded data removed]",
            "text/plain": [
              "<Figure size 640x480 with 1 Axes>"
            ]
          },
          "metadata": {},
          "output_type": "display_data"
        }
      ],
      "source": [
        "sns.set_style('whitegrid')\n",
        "sns.countplot(x='Survived',hue='Sex',data=titanic_df,palette='RdBu_r')"
      ]
    },
    {
      "cell_type": "code",
      "execution_count": null,
      "id": "70262a42-4a18-418b-9a20-6db959de9cc0",
      "metadata": {
        "id": "70262a42-4a18-418b-9a20-6db959de9cc0",
        "outputId": "df212612-267e-48e6-ae04-634b7b16a99a"
      },
      "outputs": [
        {
          "data": {
            "text/plain": [
              "<Axes: xlabel='Survived', ylabel='count'>"
            ]
          },
          "execution_count": 9,
          "metadata": {},
          "output_type": "execute_result"
        },
        {
          "data": {
            "image/png": "[encoded data removed]",
            "text/plain": [
              "<Figure size 640x480 with 1 Axes>"
            ]
          },
          "metadata": {},
          "output_type": "display_data"
        }
      ],
      "source": [
        "sns.set_style('whitegrid')\n",
        "sns.countplot(x='Survived',hue='Pclass',data=titanic_df,palette='rainbow')"
      ]
    },
    {
      "cell_type": "code",
      "execution_count": null,
      "id": "c10e869c-5bfd-45ec-9f15-998f10e7e070",
      "metadata": {
        "id": "c10e869c-5bfd-45ec-9f15-998f10e7e070",
        "outputId": "70e13ba9-3c0f-4b97-a780-f54248a5d8c6"
      },
      "outputs": [
        {
          "data": {
            "text/plain": [
              "<Axes: xlabel='Age'>"
            ]
          },
          "execution_count": 10,
          "metadata": {},
          "output_type": "execute_result"
        },
        {
          "data": {
            "image/png": "[encoded data removed]",
            "text/plain": [
              "<Figure size 640x480 with 1 Axes>"
            ]
          },
          "metadata": {},
          "output_type": "display_data"
        }
      ],
      "source": [
        "# Plots a histogram of the 'Age' column to visualize its distribution, excluding missing values.\n",
        "sns.distplot(titanic_df['Age'].dropna(),kde=False,color='darkred',bins=30)"
      ]
    },
    {
      "cell_type": "code",
      "execution_count": null,
      "id": "3cb31c0b-1406-41f1-9666-fdab819aae8f",
      "metadata": {
        "id": "3cb31c0b-1406-41f1-9666-fdab819aae8f",
        "outputId": "1f1cd52e-000f-4978-fc70-00fa17a9d612"
      },
      "outputs": [
        {
          "data": {
            "text/plain": [
              "<Axes: xlabel='SibSp', ylabel='count'>"
            ]
          },
          "execution_count": 11,
          "metadata": {},
          "output_type": "execute_result"
        },
        {
          "data": {
            "image/png": "[encoded data removed]",
            "text/plain": [
              "<Figure size 640x480 with 1 Axes>"
            ]
          },
          "metadata": {},
          "output_type": "display_data"
        }
      ],
      "source": [
        "sns.countplot(x='SibSp',data=titanic_df)"
      ]
    },
    {
      "cell_type": "code",
      "execution_count": null,
      "id": "2c794287-dbd8-4d39-800f-74bc74a63961",
      "metadata": {
        "id": "2c794287-dbd8-4d39-800f-74bc74a63961",
        "outputId": "ef3c53cb-a905-4184-b0d7-9f738386f5e1"
      },
      "outputs": [
        {
          "data": {
            "text/plain": [
              "<Axes: >"
            ]
          },
          "execution_count": 12,
          "metadata": {},
          "output_type": "execute_result"
        },
        {
          "data": {
            "image/png": "[encoded data removed]",
            "text/plain": [
              "<Figure size 800x400 with 1 Axes>"
            ]
          },
          "metadata": {},
          "output_type": "display_data"
        }
      ],
      "source": [
        "# Plots a histogram of the 'Fare' column to visualize its distribution.\n",
        "titanic_df['Fare'].hist(color='green',bins=40,figsize=(8,4))"
      ]
    },
    {
      "cell_type": "markdown",
      "id": "4a0774da-49b4-4e42-9acf-f6bef9025ad3",
      "metadata": {
        "id": "4a0774da-49b4-4e42-9acf-f6bef9025ad3"
      },
      "source": [
        "### Handle Missing Values"
      ]
    },
    {
      "cell_type": "markdown",
      "id": "2a55a888-8bb1-4a1a-8e4d-1a514c08a49f",
      "metadata": {
        "id": "2a55a888-8bb1-4a1a-8e4d-1a514c08a49f"
      },
      "source": [
        "We want to fill in missing age data instead of just dropping the missing age data rows. One way to do this is by filling in the mean age of all the passengers (imputation). <br><br>However we can be smarter about this and check the average age by passenger class. For example:"
      ]
    },
    {
      "cell_type": "code",
      "execution_count": null,
      "id": "9ab0211b-5321-4d92-9749-61a9581510cc",
      "metadata": {
        "id": "9ab0211b-5321-4d92-9749-61a9581510cc",
        "outputId": "79eecec6-dc6b-4f69-c7f1-65cc3b7a86a8"
      },
      "outputs": [
        {
          "data": {
            "text/plain": [
              "<Axes: xlabel='Pclass', ylabel='Age'>"
            ]
          },
          "execution_count": 13,
          "metadata": {},
          "output_type": "execute_result"
        },
        {
          "data": {
            "image/png": "[encoded data removed]",
            "text/plain": [
              "<Figure size 500x400 with 1 Axes>"
            ]
          },
          "metadata": {},
          "output_type": "display_data"
        }
      ],
      "source": [
        "plt.figure(figsize=(5, 4))\n",
        "sns.boxplot(x='Pclass',y='Age',data=titanic_df,palette='winter')"
      ]
    },
    {
      "cell_type": "markdown",
      "id": "5a8c4f7a-1852-4d21-ba87-6c8a0693d049",
      "metadata": {
        "id": "5a8c4f7a-1852-4d21-ba87-6c8a0693d049"
      },
      "source": [
        "We can see the wealthier passengers in the higher classes tend to be older. We'll use these average age values to impute based on Pclass for Age."
      ]
    },
    {
      "cell_type": "code",
      "execution_count": null,
      "id": "da54a964-c399-4aa5-8b16-c5d9cba84345",
      "metadata": {
        "id": "da54a964-c399-4aa5-8b16-c5d9cba84345"
      },
      "outputs": [],
      "source": [
        "# A function to fill in missing 'Age' values based on the passenger class ('Pclass').\n",
        "# It assigns an average age depending on the class: 37 for 1st, 29 for 2nd, and 24 for 3rd class.\n",
        "def impute_age(cols):\n",
        "    Age, Pclass = cols\n",
        "    if pd.isnull(Age):\n",
        "        return {1: 37, 2: 29}.get(Pclass, 24)\n",
        "    return Age"
      ]
    },
    {
      "cell_type": "code",
      "execution_count": null,
      "id": "0899d062-9b5f-4e81-97d4-96f6fc0f9412",
      "metadata": {
        "id": "0899d062-9b5f-4e81-97d4-96f6fc0f9412"
      },
      "outputs": [],
      "source": [
        "# Applies the impute_age function row-wise across the DataFrame to fill missing 'Age' values.\n",
        "titanic_df['Age'] = titanic_df[['Age','Pclass']].apply(impute_age,axis=1)"
      ]
    },
    {
      "cell_type": "code",
      "execution_count": null,
      "id": "76248f62-0376-4bff-b4b8-8afa703b8822",
      "metadata": {
        "id": "76248f62-0376-4bff-b4b8-8afa703b8822"
      },
      "outputs": [],
      "source": [
        "# Drops the 'Cabin' column, which has too many missing values.\n",
        "titanic_df.drop('Cabin',axis=1,inplace=True)"
      ]
    },
    {
      "cell_type": "code",
      "execution_count": null,
      "id": "9b0537c4-50f0-4221-928b-91f2abeaadf1",
      "metadata": {
        "id": "9b0537c4-50f0-4221-928b-91f2abeaadf1"
      },
      "outputs": [],
      "source": [
        "# Removes rows with any remaining missing values.\n",
        "titanic_df.dropna(inplace=True)"
      ]
    },
    {
      "cell_type": "markdown",
      "id": "19c62969-132a-4e09-af51-d9dcf6fd15f3",
      "metadata": {
        "id": "19c62969-132a-4e09-af51-d9dcf6fd15f3"
      },
      "source": [
        "Now let's check that heat map again!"
      ]
    },
    {
      "cell_type": "code",
      "execution_count": null,
      "id": "3f7cb990-1ec8-4fea-9c4d-aaf776cc5a76",
      "metadata": {
        "id": "3f7cb990-1ec8-4fea-9c4d-aaf776cc5a76",
        "outputId": "63b2d305-efa8-4ef1-f796-a8f916d49396"
      },
      "outputs": [
        {
          "data": {
            "text/plain": [
              "<Axes: >"
            ]
          },
          "execution_count": 18,
          "metadata": {},
          "output_type": "execute_result"
        },
        {
          "data": {
            "image/png": "[encoded data removed]",
            "text/plain": [
              "<Figure size 640x480 with 1 Axes>"
            ]
          },
          "metadata": {},
          "output_type": "display_data"
        }
      ],
      "source": [
        "sns.heatmap(titanic_df.isnull(),yticklabels=False,cbar=False,cmap='viridis')"
      ]
    },
    {
      "cell_type": "code",
      "execution_count": null,
      "id": "10a1e738-6c0b-446e-8d21-6e2103dec2f8",
      "metadata": {
        "id": "10a1e738-6c0b-446e-8d21-6e2103dec2f8"
      },
      "outputs": [],
      "source": [
        "# Removes any duplicate rows from the DataFrame to ensure that each entry is unique.\n",
        "titanic_df.drop_duplicates(inplace=True)"
      ]
    },
    {
      "cell_type": "markdown",
      "id": "0f482770-5107-4fba-b23b-5eea498b64c8",
      "metadata": {
        "id": "0f482770-5107-4fba-b23b-5eea498b64c8"
      },
      "source": [
        "### Identifying Outliers in Numerical Columns"
      ]
    },
    {
      "cell_type": "code",
      "execution_count": null,
      "id": "ea78a51d-be0e-4ab4-9435-f7020b932ba0",
      "metadata": {
        "id": "ea78a51d-be0e-4ab4-9435-f7020b932ba0",
        "outputId": "2e39414a-6511-4b23-cd2b-ceecdc05eef2"
      },
      "outputs": [
        {
          "data": {
            "image/png": "[encoded data removed]",
            "text/plain": [
              "<Figure size 2000x300 with 5 Axes>"
            ]
          },
          "metadata": {},
          "output_type": "display_data"
        }
      ],
      "source": [
        "# Plot box plots to identify outliers in numerical columns like 'Pclass', 'Age', 'SibSp',\n",
        "# 'Parch', 'Fare'\n",
        "plt.figure(figsize=(20, 3))\n",
        "\n",
        "plt.subplot(1, 5, 1)\n",
        "sns.boxplot(x=titanic_df['Pclass'])\n",
        "plt.title('Box Plot of Pclass')\n",
        "\n",
        "plt.subplot(1, 5, 2)\n",
        "sns.boxplot(x=titanic_df['Age'])\n",
        "plt.title('Box Plot of Age')\n",
        "\n",
        "plt.subplot(1, 5, 3)\n",
        "sns.boxplot(x=titanic_df['SibSp'])\n",
        "plt.title('Box Plot of SibSp')\n",
        "\n",
        "plt.subplot(1, 5, 4)\n",
        "sns.boxplot(x=titanic_df['Parch'])\n",
        "plt.title('Box Plot of Parch')\n",
        "\n",
        "plt.subplot(1, 5, 5)\n",
        "sns.boxplot(x=titanic_df['Fare'])\n",
        "plt.title('Box Plot of Fare')\n",
        "\n",
        "plt.show()"
      ]
    },
    {
      "cell_type": "code",
      "execution_count": null,
      "id": "4a70ee75-1547-4a03-8c38-48238182bafe",
      "metadata": {
        "id": "4a70ee75-1547-4a03-8c38-48238182bafe",
        "outputId": "e613f1ee-6bd1-4d5a-daf1-86283b601282"
      },
      "outputs": [
        {
          "data": {
            "image/png": "[encoded data removed]",
            "text/plain": [
              "<Figure size 1500x500 with 4 Axes>"
            ]
          },
          "metadata": {},
          "output_type": "display_data"
        }
      ],
      "source": [
        "# Plot histograms for numerical columns to visualize their distributions.\n",
        "titanic_df[['Age', 'SibSp', 'Parch','Fare']].hist(figsize=(15, 5))\n",
        "plt.show()"
      ]
    },
    {
      "cell_type": "code",
      "execution_count": null,
      "id": "eba62828-892c-483b-92d9-4c40a0b26bd3",
      "metadata": {
        "id": "eba62828-892c-483b-92d9-4c40a0b26bd3"
      },
      "outputs": [],
      "source": [
        "# Use Z-scores to identify outliers\n",
        "# Compute the Z-score for each value in the column, which indicates how many standard deviations\n",
        "# a value is from the mean.\n",
        "# Values with a Z-score greater than 3 or less than -3 are considered outliers.\n",
        "titanic_df['Age_Zscore'] = zscore(titanic_df['Age'])\n",
        "titanic_df['SibSp_Zscore'] = zscore(titanic_df['SibSp'])\n",
        "titanic_df['Parch_Zscore'] = zscore(titanic_df['Parch'])\n",
        "titanic_df['Fare_Zscore'] = zscore(titanic_df['Fare'])\n",
        "\n",
        "# Filter out rows where the Z-score of any selected column indicates an outlier.\n",
        "titanic_df = titanic_df[(titanic_df['Age_Zscore'].abs() <= 3) &\n",
        "                    (titanic_df['SibSp_Zscore'].abs() <= 3) &\n",
        "                    (titanic_df['Parch_Zscore'].abs() <= 3) &\n",
        "                    (titanic_df['Fare_Zscore'].abs() <= 3)]\n",
        "\n",
        "# Remove the temporary Z-score columns after filtering out the outliers.\n",
        "titanic_df = titanic_df.drop(columns=['Age_Zscore', 'SibSp_Zscore', 'Parch_Zscore', 'Fare_Zscore'])"
      ]
    },
    {
      "cell_type": "markdown",
      "id": "11fb15df-75b9-4b8e-996e-97cdc904a28a",
      "metadata": {
        "id": "11fb15df-75b9-4b8e-996e-97cdc904a28a"
      },
      "source": [
        "### Exploring Categorical Columns"
      ]
    },
    {
      "cell_type": "code",
      "execution_count": null,
      "id": "e4a24302-8d7b-4722-b771-f212bf8383da",
      "metadata": {
        "id": "e4a24302-8d7b-4722-b771-f212bf8383da",
        "outputId": "4f5036b0-e6b3-4d19-bd86-a6aca54c628d"
      },
      "outputs": [
        {
          "name": "stdout",
          "output_type": "stream",
          "text": [
            "Unique values in 'Embarked':\n",
            " ['S' 'C' 'Q']\n",
            "\n",
            "Unique values in 'Sex':\n",
            " ['male' 'female']\n"
          ]
        }
      ],
      "source": [
        "# Check unique values for categorical column\n",
        "print(\"Unique values in 'Embarked':\\n\", titanic_df['Embarked'].unique())\n",
        "print(\"\\nUnique values in 'Sex':\\n\", titanic_df['Sex'].unique())"
      ]
    },
    {
      "cell_type": "code",
      "execution_count": null,
      "id": "ea8a6169-0c25-4eda-8327-c97e2dcfaba1",
      "metadata": {
        "id": "ea8a6169-0c25-4eda-8327-c97e2dcfaba1",
        "outputId": "a89dd08b-b478-4536-f25b-9ee746866c39"
      },
      "outputs": [
        {
          "name": "stdout",
          "output_type": "stream",
          "text": [
            "Sex\n",
            "male      539\n",
            "female    279\n",
            "Name: count, dtype: int64\n",
            "\n",
            "Embarked\n",
            "S    594\n",
            "C    153\n",
            "Q     71\n",
            "Name: count, dtype: int64\n",
            "\n",
            "Ticket\n",
            "1601            7\n",
            "S.O.C. 14879    5\n",
            "113760          4\n",
            "113781          4\n",
            "LINE            4\n",
            "               ..\n",
            "19988           1\n",
            "2693            1\n",
            "PC 17612        1\n",
            "349233          1\n",
            "370376          1\n",
            "Name: count, Length: 658, dtype: int64\n"
          ]
        }
      ],
      "source": [
        "# Display the frequency distribution for each categorical column\n",
        "print(titanic_df['Sex'].value_counts())\n",
        "print()\n",
        "print(titanic_df['Embarked'].value_counts())\n",
        "print()\n",
        "print(titanic_df['Ticket'].value_counts())"
      ]
    },
    {
      "cell_type": "markdown",
      "id": "51f872b1-1d33-4d3f-917c-f3a3bf93cbc5",
      "metadata": {
        "id": "51f872b1-1d33-4d3f-917c-f3a3bf93cbc5"
      },
      "source": [
        "### Feature Engineering"
      ]
    },
    {
      "cell_type": "markdown",
      "id": "5f5e54e9-5258-4fd1-88e2-bf978cb3c412",
      "metadata": {
        "id": "5f5e54e9-5258-4fd1-88e2-bf978cb3c412"
      },
      "source": [
        "We'll need to convert categorical features to dummy variables using pandas one hot encoding! Otherwise our machine learning algorithm won't be able to directly take in those features as inputs."
      ]
    },
    {
      "cell_type": "code",
      "execution_count": null,
      "id": "a67d8961-8abb-4b1b-ba29-8e9809efc1fa",
      "metadata": {
        "id": "a67d8961-8abb-4b1b-ba29-8e9809efc1fa"
      },
      "outputs": [],
      "source": [
        "# Convert categorical columns like 'Embarked' into one-hot encoded binary columns, making them\n",
        "# suitable for machine learning algorithms.\n",
        "titanic_df = pd.get_dummies(titanic_df, columns=['Embarked'], prefix='Embarked')"
      ]
    },
    {
      "cell_type": "code",
      "execution_count": null,
      "id": "138b011e-0f4c-49fa-886a-361a7c362d45",
      "metadata": {
        "id": "138b011e-0f4c-49fa-886a-361a7c362d45"
      },
      "outputs": [],
      "source": [
        "# Initialize encoder\n",
        "le = LabelEncoder()\n",
        "\n",
        "# Encode categorical columns (like 'Sex', 'Embarked') into numerical values (0, 1).\n",
        "titanic_df['Sex'] = le.fit_transform(titanic_df['Sex'])\n",
        "\n",
        "# Encode the 'Embarked_[...]' columns\n",
        "titanic_df['Embarked_C'] = le.fit_transform(titanic_df['Embarked_C'])\n",
        "titanic_df['Embarked_S'] = le.fit_transform(titanic_df['Embarked_S'])\n",
        "titanic_df['Embarked_Q'] = le.fit_transform(titanic_df['Embarked_Q'])"
      ]
    },
    {
      "cell_type": "code",
      "execution_count": null,
      "id": "26bcb0fc-bef0-4334-a605-b941a02a5c2f",
      "metadata": {
        "id": "26bcb0fc-bef0-4334-a605-b941a02a5c2f"
      },
      "outputs": [],
      "source": [
        "# Drops non-essential columns like 'Name' and 'Ticket' which don't contribute to the model.\n",
        "titanic_df.drop(['Name','Ticket'],axis=1,inplace=True)"
      ]
    },
    {
      "cell_type": "code",
      "execution_count": null,
      "id": "ab35a526-8be3-4b96-89f7-4da30926f3ef",
      "metadata": {
        "id": "ab35a526-8be3-4b96-89f7-4da30926f3ef",
        "outputId": "98b1b71e-3e57-4294-cf3d-19baac00d818"
      },
      "outputs": [
        {
          "data": {
            "text/html": [
              "<div>\n",
              "<style scoped>\n",
              "    .dataframe tbody tr th:only-of-type {\n",
              "        vertical-align: middle;\n",
              "    }\n",
              "\n",
              "    .dataframe tbody tr th {\n",
              "        vertical-align: top;\n",
              "    }\n",
              "\n",
              "    .dataframe thead th {\n",
              "        text-align: right;\n",
              "    }\n",
              "</style>\n",
              "<table border=\"1\" class=\"dataframe\">\n",
              "  <thead>\n",
              "    <tr style=\"text-align: right;\">\n",
              "      <th></th>\n",
              "      <th>PassengerId</th>\n",
              "      <th>Survived</th>\n",
              "      <th>Pclass</th>\n",
              "      <th>Sex</th>\n",
              "      <th>Age</th>\n",
              "      <th>SibSp</th>\n",
              "      <th>Parch</th>\n",
              "      <th>Fare</th>\n",
              "      <th>Embarked_C</th>\n",
              "      <th>Embarked_Q</th>\n",
              "      <th>Embarked_S</th>\n",
              "    </tr>\n",
              "  </thead>\n",
              "  <tbody>\n",
              "    <tr>\n",
              "      <th>0</th>\n",
              "      <td>1</td>\n",
              "      <td>0</td>\n",
              "      <td>3</td>\n",
              "      <td>1</td>\n",
              "      <td>22.0</td>\n",
              "      <td>1</td>\n",
              "      <td>0</td>\n",
              "      <td>7.2500</td>\n",
              "      <td>0</td>\n",
              "      <td>0</td>\n",
              "      <td>1</td>\n",
              "    </tr>\n",
              "    <tr>\n",
              "      <th>1</th>\n",
              "      <td>2</td>\n",
              "      <td>1</td>\n",
              "      <td>1</td>\n",
              "      <td>0</td>\n",
              "      <td>38.0</td>\n",
              "      <td>1</td>\n",
              "      <td>0</td>\n",
              "      <td>71.2833</td>\n",
              "      <td>1</td>\n",
              "      <td>0</td>\n",
              "      <td>0</td>\n",
              "    </tr>\n",
              "    <tr>\n",
              "      <th>2</th>\n",
              "      <td>3</td>\n",
              "      <td>1</td>\n",
              "      <td>3</td>\n",
              "      <td>0</td>\n",
              "      <td>26.0</td>\n",
              "      <td>0</td>\n",
              "      <td>0</td>\n",
              "      <td>7.9250</td>\n",
              "      <td>0</td>\n",
              "      <td>0</td>\n",
              "      <td>1</td>\n",
              "    </tr>\n",
              "    <tr>\n",
              "      <th>3</th>\n",
              "      <td>4</td>\n",
              "      <td>1</td>\n",
              "      <td>1</td>\n",
              "      <td>0</td>\n",
              "      <td>35.0</td>\n",
              "      <td>1</td>\n",
              "      <td>0</td>\n",
              "      <td>53.1000</td>\n",
              "      <td>0</td>\n",
              "      <td>0</td>\n",
              "      <td>1</td>\n",
              "    </tr>\n",
              "    <tr>\n",
              "      <th>4</th>\n",
              "      <td>5</td>\n",
              "      <td>0</td>\n",
              "      <td>3</td>\n",
              "      <td>1</td>\n",
              "      <td>35.0</td>\n",
              "      <td>0</td>\n",
              "      <td>0</td>\n",
              "      <td>8.0500</td>\n",
              "      <td>0</td>\n",
              "      <td>0</td>\n",
              "      <td>1</td>\n",
              "    </tr>\n",
              "  </tbody>\n",
              "</table>\n",
              "</div>"
            ],
            "text/plain": [
              "   PassengerId  Survived  Pclass  Sex   Age  SibSp  Parch     Fare  \\\n",
              "0            1         0       3    1  22.0      1      0   7.2500   \n",
              "1            2         1       1    0  38.0      1      0  71.2833   \n",
              "2            3         1       3    0  26.0      0      0   7.9250   \n",
              "3            4         1       1    0  35.0      1      0  53.1000   \n",
              "4            5         0       3    1  35.0      0      0   8.0500   \n",
              "\n",
              "   Embarked_C  Embarked_Q  Embarked_S  \n",
              "0           0           0           1  \n",
              "1           1           0           0  \n",
              "2           0           0           1  \n",
              "3           0           0           1  \n",
              "4           0           0           1  "
            ]
          },
          "execution_count": 28,
          "metadata": {},
          "output_type": "execute_result"
        }
      ],
      "source": [
        "titanic_df.head()"
      ]
    },
    {
      "cell_type": "markdown",
      "id": "4c1f5687-2a15-4b7f-b278-89abcda530c8",
      "metadata": {
        "id": "4c1f5687-2a15-4b7f-b278-89abcda530c8"
      },
      "source": [
        "## Finding Correlation"
      ]
    },
    {
      "cell_type": "code",
      "execution_count": null,
      "id": "e4875fee-ba62-4da4-acb4-6ef83f956297",
      "metadata": {
        "id": "e4875fee-ba62-4da4-acb4-6ef83f956297",
        "outputId": "57698dc5-471f-44d8-bfbd-fea87c604b28"
      },
      "outputs": [
        {
          "data": {
            "image/png": "[encoded data removed]",
            "text/plain": [
              "<Figure size 1000x600 with 1 Axes>"
            ]
          },
          "metadata": {},
          "output_type": "display_data"
        }
      ],
      "source": [
        "# Compute the correlation matrix for all numerical features with respect to the target variable\n",
        "# 'Survived'.\n",
        "correlation_with_survived = titanic_df.drop(columns=['PassengerId']).corr()['Survived'\n",
        "].drop('Survived')\n",
        "\n",
        "# Visualize the correlation of each feature with 'Survived', helping to identify features with\n",
        "# strong correlations.\n",
        "plt.figure(figsize=(10, 6))\n",
        "sns.barplot(x=correlation_with_survived.index, y=correlation_with_survived.values, palette='RdYlGn')\n",
        "plt.xticks(rotation=90)\n",
        "plt.title('Correlation of Features with Survived')\n",
        "plt.ylabel('Correlation Coefficient')\n",
        "plt.xlabel('Features')\n",
        "plt.grid(axis='y', linestyle='--', alpha=0.6)\n",
        "plt.tight_layout()\n",
        "plt.show()"
      ]
    },
    {
      "cell_type": "code",
      "execution_count": null,
      "id": "75654e56-8edf-49af-83bc-bd622a463a94",
      "metadata": {
        "id": "75654e56-8edf-49af-83bc-bd622a463a94",
        "outputId": "e98cdcc6-8b88-47bb-fff9-2cb2c2beeeb6"
      },
      "outputs": [
        {
          "data": {
            "text/html": [
              "<div>\n",
              "<style scoped>\n",
              "    .dataframe tbody tr th:only-of-type {\n",
              "        vertical-align: middle;\n",
              "    }\n",
              "\n",
              "    .dataframe tbody tr th {\n",
              "        vertical-align: top;\n",
              "    }\n",
              "\n",
              "    .dataframe thead th {\n",
              "        text-align: right;\n",
              "    }\n",
              "</style>\n",
              "<table border=\"1\" class=\"dataframe\">\n",
              "  <thead>\n",
              "    <tr style=\"text-align: right;\">\n",
              "      <th></th>\n",
              "      <th>Pclass</th>\n",
              "      <th>Sex</th>\n",
              "      <th>Parch</th>\n",
              "      <th>Fare</th>\n",
              "      <th>Embarked_C</th>\n",
              "      <th>Embarked_S</th>\n",
              "      <th>Survived</th>\n",
              "    </tr>\n",
              "  </thead>\n",
              "  <tbody>\n",
              "    <tr>\n",
              "      <th>0</th>\n",
              "      <td>3</td>\n",
              "      <td>1</td>\n",
              "      <td>0</td>\n",
              "      <td>7.2500</td>\n",
              "      <td>0</td>\n",
              "      <td>1</td>\n",
              "      <td>0</td>\n",
              "    </tr>\n",
              "    <tr>\n",
              "      <th>1</th>\n",
              "      <td>1</td>\n",
              "      <td>0</td>\n",
              "      <td>0</td>\n",
              "      <td>71.2833</td>\n",
              "      <td>1</td>\n",
              "      <td>0</td>\n",
              "      <td>1</td>\n",
              "    </tr>\n",
              "    <tr>\n",
              "      <th>2</th>\n",
              "      <td>3</td>\n",
              "      <td>0</td>\n",
              "      <td>0</td>\n",
              "      <td>7.9250</td>\n",
              "      <td>0</td>\n",
              "      <td>1</td>\n",
              "      <td>1</td>\n",
              "    </tr>\n",
              "    <tr>\n",
              "      <th>3</th>\n",
              "      <td>1</td>\n",
              "      <td>0</td>\n",
              "      <td>0</td>\n",
              "      <td>53.1000</td>\n",
              "      <td>0</td>\n",
              "      <td>1</td>\n",
              "      <td>1</td>\n",
              "    </tr>\n",
              "    <tr>\n",
              "      <th>4</th>\n",
              "      <td>3</td>\n",
              "      <td>1</td>\n",
              "      <td>0</td>\n",
              "      <td>8.0500</td>\n",
              "      <td>0</td>\n",
              "      <td>1</td>\n",
              "      <td>0</td>\n",
              "    </tr>\n",
              "  </tbody>\n",
              "</table>\n",
              "</div>"
            ],
            "text/plain": [
              "   Pclass  Sex  Parch     Fare  Embarked_C  Embarked_S  Survived\n",
              "0       3    1      0   7.2500           0           1         0\n",
              "1       1    0      0  71.2833           1           0         1\n",
              "2       3    0      0   7.9250           0           1         1\n",
              "3       1    0      0  53.1000           0           1         1\n",
              "4       3    1      0   8.0500           0           1         0"
            ]
          },
          "execution_count": 30,
          "metadata": {},
          "output_type": "execute_result"
        }
      ],
      "source": [
        "# Drop columns with low correlation with the target variable\n",
        "titanic_df = titanic_df[['Pclass','Sex','Parch','Fare','Embarked_C','Embarked_S','Survived']]\n",
        "titanic_df.head()"
      ]
    },
    {
      "cell_type": "markdown",
      "id": "65c735ad-b69a-445e-bb2e-aaf1629460a8",
      "metadata": {
        "id": "65c735ad-b69a-445e-bb2e-aaf1629460a8"
      },
      "source": [
        "## Model Building"
      ]
    },
    {
      "cell_type": "code",
      "execution_count": null,
      "id": "cb54e1cd-ec84-459d-b73f-21f20be9cac9",
      "metadata": {
        "id": "cb54e1cd-ec84-459d-b73f-21f20be9cac9"
      },
      "outputs": [],
      "source": [
        "# Prepare features and target variable\n",
        "X = titanic_df.drop(columns=['Survived'])\n",
        "y = titanic_df['Survived']\n",
        "\n",
        "# Split the data into training and testing sets (80% train, 20% test)\n",
        "X_train, X_test, y_train, y_test = train_test_split(X, y, test_size=0.2, random_state=42)"
      ]
    },
    {
      "cell_type": "code",
      "execution_count": null,
      "id": "18d5e6b0-cdf6-46b2-a63e-decc53cd5015",
      "metadata": {
        "id": "18d5e6b0-cdf6-46b2-a63e-decc53cd5015",
        "outputId": "a483367f-bcac-4d49-d5bf-2aa06dae4250"
      },
      "outputs": [
        {
          "data": {
            "text/html": [
              "<style>#sk-container-id-1 {\n",
              "  /* Definition of color scheme common for light and dark mode */\n",
              "  --sklearn-color-text: black;\n",
              "  --sklearn-color-line: gray;\n",
              "  /* Definition of color scheme for unfitted estimators */\n",
              "  --sklearn-color-unfitted-level-0: #fff5e6;\n",
              "  --sklearn-color-unfitted-level-1: #f6e4d2;\n",
              "  --sklearn-color-unfitted-level-2: #ffe0b3;\n",
              "  --sklearn-color-unfitted-level-3: chocolate;\n",
              "  /* Definition of color scheme for fitted estimators */\n",
              "  --sklearn-color-fitted-level-0: #f0f8ff;\n",
              "  --sklearn-color-fitted-level-1: #d4ebff;\n",
              "  --sklearn-color-fitted-level-2: #b3dbfd;\n",
              "  --sklearn-color-fitted-level-3: cornflowerblue;\n",
              "\n",
              "  /* Specific color for light theme */\n",
              "  --sklearn-color-text-on-default-background: var(--sg-text-color, var(--theme-code-foreground, var(--jp-content-font-color1, black)));\n",
              "  --sklearn-color-background: var(--sg-background-color, var(--theme-background, var(--jp-layout-color0, white)));\n",
              "  --sklearn-color-border-box: var(--sg-text-color, var(--theme-code-foreground, var(--jp-content-font-color1, black)));\n",
              "  --sklearn-color-icon: #696969;\n",
              "\n",
              "  @media (prefers-color-scheme: dark) {\n",
              "    /* Redefinition of color scheme for dark theme */\n",
              "    --sklearn-color-text-on-default-background: var(--sg-text-color, var(--theme-code-foreground, var(--jp-content-font-color1, white)));\n",
              "    --sklearn-color-background: var(--sg-background-color, var(--theme-background, var(--jp-layout-color0, #111)));\n",
              "    --sklearn-color-border-box: var(--sg-text-color, var(--theme-code-foreground, var(--jp-content-font-color1, white)));\n",
              "    --sklearn-color-icon: #878787;\n",
              "  }\n",
              "}\n",
              "\n",
              "#sk-container-id-1 {\n",
              "  color: var(--sklearn-color-text);\n",
              "}\n",
              "\n",
              "#sk-container-id-1 pre {\n",
              "  padding: 0;\n",
              "}\n",
              "\n",
              "#sk-container-id-1 input.sk-hidden--visually {\n",
              "  border: 0;\n",
              "  clip: rect(1px 1px 1px 1px);\n",
              "  clip: rect(1px, 1px, 1px, 1px);\n",
              "  height: 1px;\n",
              "  margin: -1px;\n",
              "  overflow: hidden;\n",
              "  padding: 0;\n",
              "  position: absolute;\n",
              "  width: 1px;\n",
              "}\n",
              "\n",
              "#sk-container-id-1 div.sk-dashed-wrapped {\n",
              "  border: 1px dashed var(--sklearn-color-line);\n",
              "  margin: 0 0.4em 0.5em 0.4em;\n",
              "  box-sizing: border-box;\n",
              "  padding-bottom: 0.4em;\n",
              "  background-color: var(--sklearn-color-background);\n",
              "}\n",
              "\n",
              "#sk-container-id-1 div.sk-container {\n",
              "  /* jupyter's `normalize.less` sets `[hidden] { display: none; }`\n",
              "     but bootstrap.min.css set `[hidden] { display: none !important; }`\n",
              "     so we also need the `!important` here to be able to override the\n",
              "     default hidden behavior on the sphinx rendered scikit-learn.org.\n",
              "     See: https://github.com/scikit-learn/scikit-learn/issues/21755 */\n",
              "  display: inline-block !important;\n",
              "  position: relative;\n",
              "}\n",
              "\n",
              "#sk-container-id-1 div.sk-text-repr-fallback {\n",
              "  display: none;\n",
              "}\n",
              "\n",
              "div.sk-parallel-item,\n",
              "div.sk-serial,\n",
              "div.sk-item {\n",
              "  /* draw centered vertical line to link estimators */\n",
              "  background-image: linear-gradient(var(--sklearn-color-text-on-default-background), var(--sklearn-color-text-on-default-background));\n",
              "  background-size: 2px 100%;\n",
              "  background-repeat: no-repeat;\n",
              "  background-position: center center;\n",
              "}\n",
              "\n",
              "/* Parallel-specific style estimator block */\n",
              "\n",
              "#sk-container-id-1 div.sk-parallel-item::after {\n",
              "  content: \"\";\n",
              "  width: 100%;\n",
              "  border-bottom: 2px solid var(--sklearn-color-text-on-default-background);\n",
              "  flex-grow: 1;\n",
              "}\n",
              "\n",
              "#sk-container-id-1 div.sk-parallel {\n",
              "  display: flex;\n",
              "  align-items: stretch;\n",
              "  justify-content: center;\n",
              "  background-color: var(--sklearn-color-background);\n",
              "  position: relative;\n",
              "}\n",
              "\n",
              "#sk-container-id-1 div.sk-parallel-item {\n",
              "  display: flex;\n",
              "  flex-direction: column;\n",
              "}\n",
              "\n",
              "#sk-container-id-1 div.sk-parallel-item:first-child::after {\n",
              "  align-self: flex-end;\n",
              "  width: 50%;\n",
              "}\n",
              "\n",
              "#sk-container-id-1 div.sk-parallel-item:last-child::after {\n",
              "  align-self: flex-start;\n",
              "  width: 50%;\n",
              "}\n",
              "\n",
              "#sk-container-id-1 div.sk-parallel-item:only-child::after {\n",
              "  width: 0;\n",
              "}\n",
              "\n",
              "/* Serial-specific style estimator block */\n",
              "\n",
              "#sk-container-id-1 div.sk-serial {\n",
              "  display: flex;\n",
              "  flex-direction: column;\n",
              "  align-items: center;\n",
              "  background-color: var(--sklearn-color-background);\n",
              "  padding-right: 1em;\n",
              "  padding-left: 1em;\n",
              "}\n",
              "\n",
              "\n",
              "/* Toggleable style: style used for estimator/Pipeline/ColumnTransformer box that is\n",
              "clickable and can be expanded/collapsed.\n",
              "- Pipeline and ColumnTransformer use this feature and define the default style\n",
              "- Estimators will overwrite some part of the style using the `sk-estimator` class\n",
              "*/\n",
              "\n",
              "/* Pipeline and ColumnTransformer style (default) */\n",
              "\n",
              "#sk-container-id-1 div.sk-toggleable {\n",
              "  /* Default theme specific background. It is overwritten whether we have a\n",
              "  specific estimator or a Pipeline/ColumnTransformer */\n",
              "  background-color: var(--sklearn-color-background);\n",
              "}\n",
              "\n",
              "/* Toggleable label */\n",
              "#sk-container-id-1 label.sk-toggleable__label {\n",
              "  cursor: pointer;\n",
              "  display: block;\n",
              "  width: 100%;\n",
              "  margin-bottom: 0;\n",
              "  padding: 0.5em;\n",
              "  box-sizing: border-box;\n",
              "  text-align: center;\n",
              "}\n",
              "\n",
              "#sk-container-id-1 label.sk-toggleable__label-arrow:before {\n",
              "  /* Arrow on the left of the label */\n",
              "  content: \"▸\";\n",
              "  float: left;\n",
              "  margin-right: 0.25em;\n",
              "  color: var(--sklearn-color-icon);\n",
              "}\n",
              "\n",
              "#sk-container-id-1 label.sk-toggleable__label-arrow:hover:before {\n",
              "  color: var(--sklearn-color-text);\n",
              "}\n",
              "\n",
              "/* Toggleable content - dropdown */\n",
              "\n",
              "#sk-container-id-1 div.sk-toggleable__content {\n",
              "  max-height: 0;\n",
              "  max-width: 0;\n",
              "  overflow: hidden;\n",
              "  text-align: left;\n",
              "  /* unfitted */\n",
              "  background-color: var(--sklearn-color-unfitted-level-0);\n",
              "}\n",
              "\n",
              "#sk-container-id-1 div.sk-toggleable__content.fitted {\n",
              "  /* fitted */\n",
              "  background-color: var(--sklearn-color-fitted-level-0);\n",
              "}\n",
              "\n",
              "#sk-container-id-1 div.sk-toggleable__content pre {\n",
              "  margin: 0.2em;\n",
              "  border-radius: 0.25em;\n",
              "  color: var(--sklearn-color-text);\n",
              "  /* unfitted */\n",
              "  background-color: var(--sklearn-color-unfitted-level-0);\n",
              "}\n",
              "\n",
              "#sk-container-id-1 div.sk-toggleable__content.fitted pre {\n",
              "  /* unfitted */\n",
              "  background-color: var(--sklearn-color-fitted-level-0);\n",
              "}\n",
              "\n",
              "#sk-container-id-1 input.sk-toggleable__control:checked~div.sk-toggleable__content {\n",
              "  /* Expand drop-down */\n",
              "  max-height: 200px;\n",
              "  max-width: 100%;\n",
              "  overflow: auto;\n",
              "}\n",
              "\n",
              "#sk-container-id-1 input.sk-toggleable__control:checked~label.sk-toggleable__label-arrow:before {\n",
              "  content: \"▾\";\n",
              "}\n",
              "\n",
              "/* Pipeline/ColumnTransformer-specific style */\n",
              "\n",
              "#sk-container-id-1 div.sk-label input.sk-toggleable__control:checked~label.sk-toggleable__label {\n",
              "  color: var(--sklearn-color-text);\n",
              "  background-color: var(--sklearn-color-unfitted-level-2);\n",
              "}\n",
              "\n",
              "#sk-container-id-1 div.sk-label.fitted input.sk-toggleable__control:checked~label.sk-toggleable__label {\n",
              "  background-color: var(--sklearn-color-fitted-level-2);\n",
              "}\n",
              "\n",
              "/* Estimator-specific style */\n",
              "\n",
              "/* Colorize estimator box */\n",
              "#sk-container-id-1 div.sk-estimator input.sk-toggleable__control:checked~label.sk-toggleable__label {\n",
              "  /* unfitted */\n",
              "  background-color: var(--sklearn-color-unfitted-level-2);\n",
              "}\n",
              "\n",
              "#sk-container-id-1 div.sk-estimator.fitted input.sk-toggleable__control:checked~label.sk-toggleable__label {\n",
              "  /* fitted */\n",
              "  background-color: var(--sklearn-color-fitted-level-2);\n",
              "}\n",
              "\n",
              "#sk-container-id-1 div.sk-label label.sk-toggleable__label,\n",
              "#sk-container-id-1 div.sk-label label {\n",
              "  /* The background is the default theme color */\n",
              "  color: var(--sklearn-color-text-on-default-background);\n",
              "}\n",
              "\n",
              "/* On hover, darken the color of the background */\n",
              "#sk-container-id-1 div.sk-label:hover label.sk-toggleable__label {\n",
              "  color: var(--sklearn-color-text);\n",
              "  background-color: var(--sklearn-color-unfitted-level-2);\n",
              "}\n",
              "\n",
              "/* Label box, darken color on hover, fitted */\n",
              "#sk-container-id-1 div.sk-label.fitted:hover label.sk-toggleable__label.fitted {\n",
              "  color: var(--sklearn-color-text);\n",
              "  background-color: var(--sklearn-color-fitted-level-2);\n",
              "}\n",
              "\n",
              "/* Estimator label */\n",
              "\n",
              "#sk-container-id-1 div.sk-label label {\n",
              "  font-family: monospace;\n",
              "  font-weight: bold;\n",
              "  display: inline-block;\n",
              "  line-height: 1.2em;\n",
              "}\n",
              "\n",
              "#sk-container-id-1 div.sk-label-container {\n",
              "  text-align: center;\n",
              "}\n",
              "\n",
              "/* Estimator-specific */\n",
              "#sk-container-id-1 div.sk-estimator {\n",
              "  font-family: monospace;\n",
              "  border: 1px dotted var(--sklearn-color-border-box);\n",
              "  border-radius: 0.25em;\n",
              "  box-sizing: border-box;\n",
              "  margin-bottom: 0.5em;\n",
              "  /* unfitted */\n",
              "  background-color: var(--sklearn-color-unfitted-level-0);\n",
              "}\n",
              "\n",
              "#sk-container-id-1 div.sk-estimator.fitted {\n",
              "  /* fitted */\n",
              "  background-color: var(--sklearn-color-fitted-level-0);\n",
              "}\n",
              "\n",
              "/* on hover */\n",
              "#sk-container-id-1 div.sk-estimator:hover {\n",
              "  /* unfitted */\n",
              "  background-color: var(--sklearn-color-unfitted-level-2);\n",
              "}\n",
              "\n",
              "#sk-container-id-1 div.sk-estimator.fitted:hover {\n",
              "  /* fitted */\n",
              "  background-color: var(--sklearn-color-fitted-level-2);\n",
              "}\n",
              "\n",
              "/* Specification for estimator info (e.g. \"i\" and \"?\") */\n",
              "\n",
              "/* Common style for \"i\" and \"?\" */\n",
              "\n",
              ".sk-estimator-doc-link,\n",
              "a:link.sk-estimator-doc-link,\n",
              "a:visited.sk-estimator-doc-link {\n",
              "  float: right;\n",
              "  font-size: smaller;\n",
              "  line-height: 1em;\n",
              "  font-family: monospace;\n",
              "  background-color: var(--sklearn-color-background);\n",
              "  border-radius: 1em;\n",
              "  height: 1em;\n",
              "  width: 1em;\n",
              "  text-decoration: none !important;\n",
              "  margin-left: 1ex;\n",
              "  /* unfitted */\n",
              "  border: var(--sklearn-color-unfitted-level-1) 1pt solid;\n",
              "  color: var(--sklearn-color-unfitted-level-1);\n",
              "}\n",
              "\n",
              ".sk-estimator-doc-link.fitted,\n",
              "a:link.sk-estimator-doc-link.fitted,\n",
              "a:visited.sk-estimator-doc-link.fitted {\n",
              "  /* fitted */\n",
              "  border: var(--sklearn-color-fitted-level-1) 1pt solid;\n",
              "  color: var(--sklearn-color-fitted-level-1);\n",
              "}\n",
              "\n",
              "/* On hover */\n",
              "div.sk-estimator:hover .sk-estimator-doc-link:hover,\n",
              ".sk-estimator-doc-link:hover,\n",
              "div.sk-label-container:hover .sk-estimator-doc-link:hover,\n",
              ".sk-estimator-doc-link:hover {\n",
              "  /* unfitted */\n",
              "  background-color: var(--sklearn-color-unfitted-level-3);\n",
              "  color: var(--sklearn-color-background);\n",
              "  text-decoration: none;\n",
              "}\n",
              "\n",
              "div.sk-estimator.fitted:hover .sk-estimator-doc-link.fitted:hover,\n",
              ".sk-estimator-doc-link.fitted:hover,\n",
              "div.sk-label-container:hover .sk-estimator-doc-link.fitted:hover,\n",
              ".sk-estimator-doc-link.fitted:hover {\n",
              "  /* fitted */\n",
              "  background-color: var(--sklearn-color-fitted-level-3);\n",
              "  color: var(--sklearn-color-background);\n",
              "  text-decoration: none;\n",
              "}\n",
              "\n",
              "/* Span, style for the box shown on hovering the info icon */\n",
              ".sk-estimator-doc-link span {\n",
              "  display: none;\n",
              "  z-index: 9999;\n",
              "  position: relative;\n",
              "  font-weight: normal;\n",
              "  right: .2ex;\n",
              "  padding: .5ex;\n",
              "  margin: .5ex;\n",
              "  width: min-content;\n",
              "  min-width: 20ex;\n",
              "  max-width: 50ex;\n",
              "  color: var(--sklearn-color-text);\n",
              "  box-shadow: 2pt 2pt 4pt #999;\n",
              "  /* unfitted */\n",
              "  background: var(--sklearn-color-unfitted-level-0);\n",
              "  border: .5pt solid var(--sklearn-color-unfitted-level-3);\n",
              "}\n",
              "\n",
              ".sk-estimator-doc-link.fitted span {\n",
              "  /* fitted */\n",
              "  background: var(--sklearn-color-fitted-level-0);\n",
              "  border: var(--sklearn-color-fitted-level-3);\n",
              "}\n",
              "\n",
              ".sk-estimator-doc-link:hover span {\n",
              "  display: block;\n",
              "}\n",
              "\n",
              "/* \"?\"-specific style due to the `<a>` HTML tag */\n",
              "\n",
              "#sk-container-id-1 a.estimator_doc_link {\n",
              "  float: right;\n",
              "  font-size: 1rem;\n",
              "  line-height: 1em;\n",
              "  font-family: monospace;\n",
              "  background-color: var(--sklearn-color-background);\n",
              "  border-radius: 1rem;\n",
              "  height: 1rem;\n",
              "  width: 1rem;\n",
              "  text-decoration: none;\n",
              "  /* unfitted */\n",
              "  color: var(--sklearn-color-unfitted-level-1);\n",
              "  border: var(--sklearn-color-unfitted-level-1) 1pt solid;\n",
              "}\n",
              "\n",
              "#sk-container-id-1 a.estimator_doc_link.fitted {\n",
              "  /* fitted */\n",
              "  border: var(--sklearn-color-fitted-level-1) 1pt solid;\n",
              "  color: var(--sklearn-color-fitted-level-1);\n",
              "}\n",
              "\n",
              "/* On hover */\n",
              "#sk-container-id-1 a.estimator_doc_link:hover {\n",
              "  /* unfitted */\n",
              "  background-color: var(--sklearn-color-unfitted-level-3);\n",
              "  color: var(--sklearn-color-background);\n",
              "  text-decoration: none;\n",
              "}\n",
              "\n",
              "#sk-container-id-1 a.estimator_doc_link.fitted:hover {\n",
              "  /* fitted */\n",
              "  background-color: var(--sklearn-color-fitted-level-3);\n",
              "}\n",
              "</style><div id=\"sk-container-id-1\" class=\"sk-top-container\"><div class=\"sk-text-repr-fallback\"><pre>LogisticRegression()</pre><b>In a Jupyter environment, please rerun this cell to show the HTML representation or trust the notebook. <br />On GitHub, the HTML representation is unable to render, please try loading this page with nbviewer.org.</b></div><div class=\"sk-container\" hidden><div class=\"sk-item\"><div class=\"sk-estimator fitted sk-toggleable\"><input class=\"sk-toggleable__control sk-hidden--visually\" id=\"sk-estimator-id-1\" type=\"checkbox\" checked><label for=\"sk-estimator-id-1\" class=\"sk-toggleable__label fitted sk-toggleable__label-arrow fitted\">&nbsp;&nbsp;LogisticRegression<a class=\"sk-estimator-doc-link fitted\" rel=\"noreferrer\" target=\"_blank\" href=\"https://scikit-learn.org/1.4/modules/generated/sklearn.linear_model.LogisticRegression.html\">?<span>Documentation for LogisticRegression</span></a><span class=\"sk-estimator-doc-link fitted\">i<span>Fitted</span></span></label><div class=\"sk-toggleable__content fitted\"><pre>LogisticRegression()</pre></div> </div></div></div></div>"
            ],
            "text/plain": [
              "LogisticRegression()"
            ]
          },
          "execution_count": 32,
          "metadata": {},
          "output_type": "execute_result"
        }
      ],
      "source": [
        "# Initializes a logistic regression model, which is a linear model used for binary classification.\n",
        "model = LogisticRegression()\n",
        "\n",
        "# Trains the logistic regression model on the training data.\n",
        "model.fit(X_train,y_train)"
      ]
    },
    {
      "cell_type": "markdown",
      "id": "079b6b32-91af-4a5f-ab14-d42078207f2a",
      "metadata": {
        "id": "079b6b32-91af-4a5f-ab14-d42078207f2a"
      },
      "source": [
        "## Model Prediction"
      ]
    },
    {
      "cell_type": "code",
      "execution_count": null,
      "id": "0b7988b7-85fc-4a93-afc4-93163dbffebe",
      "metadata": {
        "id": "0b7988b7-85fc-4a93-afc4-93163dbffebe"
      },
      "outputs": [],
      "source": [
        "# Uses the trained model to predict the survival of passengers in the test set.\n",
        "y_pred = model.predict(X_test)"
      ]
    },
    {
      "cell_type": "code",
      "execution_count": null,
      "id": "53921428-11f3-437c-8fe4-cdf49c75d024",
      "metadata": {
        "id": "53921428-11f3-437c-8fe4-cdf49c75d024",
        "outputId": "81860dfc-e850-4284-a358-0f108098842c"
      },
      "outputs": [
        {
          "data": {
            "text/html": [
              "<div>\n",
              "<style scoped>\n",
              "    .dataframe tbody tr th:only-of-type {\n",
              "        vertical-align: middle;\n",
              "    }\n",
              "\n",
              "    .dataframe tbody tr th {\n",
              "        vertical-align: top;\n",
              "    }\n",
              "\n",
              "    .dataframe thead th {\n",
              "        text-align: right;\n",
              "    }\n",
              "</style>\n",
              "<table border=\"1\" class=\"dataframe\">\n",
              "  <thead>\n",
              "    <tr style=\"text-align: right;\">\n",
              "      <th></th>\n",
              "      <th>Pclass</th>\n",
              "      <th>Sex</th>\n",
              "      <th>Parch</th>\n",
              "      <th>Fare</th>\n",
              "      <th>Embarked_C</th>\n",
              "      <th>Embarked_S</th>\n",
              "      <th>Actual_Survival</th>\n",
              "      <th>Predicted_Survival</th>\n",
              "    </tr>\n",
              "  </thead>\n",
              "  <tbody>\n",
              "    <tr>\n",
              "      <th>0</th>\n",
              "      <td>2</td>\n",
              "      <td>0</td>\n",
              "      <td>1</td>\n",
              "      <td>23.0000</td>\n",
              "      <td>0</td>\n",
              "      <td>1</td>\n",
              "      <td>1</td>\n",
              "      <td>1</td>\n",
              "    </tr>\n",
              "    <tr>\n",
              "      <th>1</th>\n",
              "      <td>3</td>\n",
              "      <td>1</td>\n",
              "      <td>0</td>\n",
              "      <td>7.7250</td>\n",
              "      <td>0</td>\n",
              "      <td>0</td>\n",
              "      <td>0</td>\n",
              "      <td>0</td>\n",
              "    </tr>\n",
              "    <tr>\n",
              "      <th>2</th>\n",
              "      <td>3</td>\n",
              "      <td>1</td>\n",
              "      <td>0</td>\n",
              "      <td>7.8958</td>\n",
              "      <td>0</td>\n",
              "      <td>1</td>\n",
              "      <td>0</td>\n",
              "      <td>0</td>\n",
              "    </tr>\n",
              "    <tr>\n",
              "      <th>3</th>\n",
              "      <td>1</td>\n",
              "      <td>0</td>\n",
              "      <td>0</td>\n",
              "      <td>106.4250</td>\n",
              "      <td>1</td>\n",
              "      <td>0</td>\n",
              "      <td>1</td>\n",
              "      <td>1</td>\n",
              "    </tr>\n",
              "    <tr>\n",
              "      <th>4</th>\n",
              "      <td>3</td>\n",
              "      <td>1</td>\n",
              "      <td>0</td>\n",
              "      <td>7.8958</td>\n",
              "      <td>0</td>\n",
              "      <td>1</td>\n",
              "      <td>0</td>\n",
              "      <td>0</td>\n",
              "    </tr>\n",
              "    <tr>\n",
              "      <th>5</th>\n",
              "      <td>3</td>\n",
              "      <td>1</td>\n",
              "      <td>0</td>\n",
              "      <td>14.5000</td>\n",
              "      <td>0</td>\n",
              "      <td>1</td>\n",
              "      <td>0</td>\n",
              "      <td>0</td>\n",
              "    </tr>\n",
              "    <tr>\n",
              "      <th>6</th>\n",
              "      <td>3</td>\n",
              "      <td>0</td>\n",
              "      <td>1</td>\n",
              "      <td>19.2583</td>\n",
              "      <td>1</td>\n",
              "      <td>0</td>\n",
              "      <td>1</td>\n",
              "      <td>1</td>\n",
              "    </tr>\n",
              "    <tr>\n",
              "      <th>7</th>\n",
              "      <td>3</td>\n",
              "      <td>1</td>\n",
              "      <td>0</td>\n",
              "      <td>7.8542</td>\n",
              "      <td>0</td>\n",
              "      <td>1</td>\n",
              "      <td>0</td>\n",
              "      <td>0</td>\n",
              "    </tr>\n",
              "    <tr>\n",
              "      <th>8</th>\n",
              "      <td>3</td>\n",
              "      <td>1</td>\n",
              "      <td>0</td>\n",
              "      <td>7.7500</td>\n",
              "      <td>0</td>\n",
              "      <td>0</td>\n",
              "      <td>0</td>\n",
              "      <td>0</td>\n",
              "    </tr>\n",
              "    <tr>\n",
              "      <th>9</th>\n",
              "      <td>2</td>\n",
              "      <td>0</td>\n",
              "      <td>1</td>\n",
              "      <td>30.0000</td>\n",
              "      <td>0</td>\n",
              "      <td>1</td>\n",
              "      <td>1</td>\n",
              "      <td>1</td>\n",
              "    </tr>\n",
              "  </tbody>\n",
              "</table>\n",
              "</div>"
            ],
            "text/plain": [
              "   Pclass  Sex  Parch      Fare  Embarked_C  Embarked_S  Actual_Survival  \\\n",
              "0       2    0      1   23.0000           0           1                1   \n",
              "1       3    1      0    7.7250           0           0                0   \n",
              "2       3    1      0    7.8958           0           1                0   \n",
              "3       1    0      0  106.4250           1           0                1   \n",
              "4       3    1      0    7.8958           0           1                0   \n",
              "5       3    1      0   14.5000           0           1                0   \n",
              "6       3    0      1   19.2583           1           0                1   \n",
              "7       3    1      0    7.8542           0           1                0   \n",
              "8       3    1      0    7.7500           0           0                0   \n",
              "9       2    0      1   30.0000           0           1                1   \n",
              "\n",
              "   Predicted_Survival  \n",
              "0                   1  \n",
              "1                   0  \n",
              "2                   0  \n",
              "3                   1  \n",
              "4                   0  \n",
              "5                   0  \n",
              "6                   1  \n",
              "7                   0  \n",
              "8                   0  \n",
              "9                   1  "
            ]
          },
          "execution_count": 34,
          "metadata": {},
          "output_type": "execute_result"
        }
      ],
      "source": [
        "# Adding predictions column to test set\n",
        "test_set_with_predictions = pd.DataFrame(X_test, columns=X.columns)\n",
        "test_set_with_predictions['Actual_Survival'] = y_test.values\n",
        "test_set_with_predictions['Predicted_Survival'] = y_pred\n",
        "test_set_with_predictions.reset_index(drop=True, inplace=True)\n",
        "test_set_with_predictions.head(10)"
      ]
    },
    {
      "cell_type": "markdown",
      "id": "49cc10dc-6bf5-45ae-8ed8-3feb56010966",
      "metadata": {
        "id": "49cc10dc-6bf5-45ae-8ed8-3feb56010966"
      },
      "source": [
        "## Model Evaluation"
      ]
    },
    {
      "cell_type": "code",
      "execution_count": null,
      "id": "79c98768-fadf-46d9-85e7-a43b949f0e14",
      "metadata": {
        "id": "79c98768-fadf-46d9-85e7-a43b949f0e14",
        "outputId": "41898a1b-a1f0-433f-acc5-1d47b964a736"
      },
      "outputs": [
        {
          "data": {
            "image/png": "[encoded data removed]",
            "text/plain": [
              "<Figure size 640x480 with 2 Axes>"
            ]
          },
          "metadata": {},
          "output_type": "display_data"
        }
      ],
      "source": [
        "# Display the confusion matrix, showing the true positives, false positives, true negatives, and false\n",
        "# negatives.\n",
        "ConfusionMatrixDisplay.from_estimator(model, X_test, y_test, display_labels=['Not Survived', 'Survived'])\n",
        "plt.title('Confusion Matrix')\n",
        "plt.grid(False)\n",
        "plt.show()"
      ]
    },
    {
      "cell_type": "code",
      "execution_count": null,
      "id": "ae9b4096-fa8e-43d1-9de8-b0abc70d0bcb",
      "metadata": {
        "id": "ae9b4096-fa8e-43d1-9de8-b0abc70d0bcb",
        "outputId": "e51e0675-498e-462b-e064-6aef4debf5df"
      },
      "outputs": [
        {
          "name": "stdout",
          "output_type": "stream",
          "text": [
            "              precision    recall  f1-score   support\n",
            "\n",
            "           0       0.85      0.87      0.86       104\n",
            "           1       0.76      0.73      0.75        60\n",
            "\n",
            "    accuracy                           0.82       164\n",
            "   macro avg       0.80      0.80      0.80       164\n",
            "weighted avg       0.82      0.82      0.82       164\n",
            "\n"
          ]
        }
      ],
      "source": [
        "# Provides a detailed report of precision, recall, F1-score, and support for each class.\n",
        "print(classification_report(y_test,y_pred))"
      ]
    },
    {
      "cell_type": "code",
      "execution_count": null,
      "id": "64a99a90-1a1e-45cc-9b61-97b3571b5e71",
      "metadata": {
        "id": "64a99a90-1a1e-45cc-9b61-97b3571b5e71",
        "outputId": "8d072017-0697-4f0a-9810-9198d9eeccd5"
      },
      "outputs": [
        {
          "name": "stdout",
          "output_type": "stream",
          "text": [
            "Accuracy: 0.82\n"
          ]
        }
      ],
      "source": [
        "# Calculates the accuracy of the model, which is the ratio of correctly predicted instances to the\n",
        "# total instances.\n",
        "accuracy = accuracy_score(y_test, y_pred)\n",
        "print(f\"Accuracy: {accuracy:.2f}\")"
      ]
    },
    {
      "cell_type": "markdown",
      "id": "5317c769-a8dc-40a1-941b-58978622b4b7",
      "metadata": {
        "id": "5317c769-a8dc-40a1-941b-58978622b4b7"
      },
      "source": [
        "## Cross-Validation"
      ]
    },
    {
      "cell_type": "code",
      "execution_count": null,
      "id": "64566657-028b-4ce7-a9fa-73a1365c4d15",
      "metadata": {
        "id": "64566657-028b-4ce7-a9fa-73a1365c4d15",
        "outputId": "7dca1644-d885-4014-eff1-b9c2d3e3fb23"
      },
      "outputs": [
        {
          "name": "stdout",
          "output_type": "stream",
          "text": [
            "Cross-validation accuracy mean: 0.78\n"
          ]
        }
      ],
      "source": [
        "# Performs cross-validation by splitting the training data into 5 parts and training the model on\n",
        "# 4 parts while validating on the 5th.\n",
        "# The process is repeated 5 times, and the mean accuracy is calculated to assess model stability.\n",
        "\n",
        "accuracies = cross_val_score(estimator=model, X=X_train, y=y_train, cv=5)\n",
        "print(\"Cross-validation accuracy mean:\", accuracies.mean().round(2))"
      ]
    },
    {
      "cell_type": "markdown",
      "id": "ea3a7ed1-6e9b-4a3f-96c3-200dc9c47b6f",
      "metadata": {
        "id": "ea3a7ed1-6e9b-4a3f-96c3-200dc9c47b6f"
      },
      "source": [
        "## Model Deployment"
      ]
    },
    {
      "cell_type": "markdown",
      "id": "f77c4716-181e-4012-9fda-3dcd780f842b",
      "metadata": {
        "id": "f77c4716-181e-4012-9fda-3dcd780f842b"
      },
      "source": [
        "### Save the model"
      ]
    },
    {
      "cell_type": "code",
      "execution_count": null,
      "id": "48045d39-5849-466f-914e-02af686e8485",
      "metadata": {
        "id": "48045d39-5849-466f-914e-02af686e8485",
        "outputId": "3c80e5b3-a959-4165-bc3a-5320e4286e54"
      },
      "outputs": [
        {
          "name": "stdout",
          "output_type": "stream",
          "text": [
            "Model saved to 'titanic_survivors_predictor.pkl'\n"
          ]
        }
      ],
      "source": [
        "# Save the model to a pickle file\n",
        "with open('titanic_survivors_predictor.pkl', 'wb') as file:\n",
        "    pickle.dump({'model': model}, file)\n",
        "\n",
        "print(\"Model saved to 'titanic_survivors_predictor.pkl'\")"
      ]
    },
    {
      "cell_type": "markdown",
      "id": "a141841b-d7b5-4cbd-964a-0f4e7c3b46e6",
      "metadata": {
        "id": "a141841b-d7b5-4cbd-964a-0f4e7c3b46e6"
      },
      "source": [
        "### Load and Use the Model"
      ]
    },
    {
      "cell_type": "code",
      "execution_count": null,
      "id": "1d55a3e8-8f65-4fe1-8544-ad3ffc159139",
      "metadata": {
        "id": "1d55a3e8-8f65-4fe1-8544-ad3ffc159139",
        "outputId": "0820e9c4-9eed-498d-c786-81bdf68eb7d9"
      },
      "outputs": [
        {
          "name": "stdout",
          "output_type": "stream",
          "text": [
            "Please provide the following details to predict survival on the Titanic:\n"
          ]
        },
        {
          "name": "stdin",
          "output_type": "stream",
          "text": [
            "Passenger Class (1, 2, 3):  1\n",
            "Sex (male/female):  female\n",
            "Number of Parents/Children aboard the Titanic:  2\n",
            "Passenger Fare:  39\n",
            "Port of Embarkation (C = Cherbourg; Q = Queenstown; S = Southampton):  C\n"
          ]
        },
        {
          "name": "stdout",
          "output_type": "stream",
          "text": [
            "\n",
            "Prediction: Survived\n"
          ]
        }
      ],
      "source": [
        "# Load the trained model from the pickle file\n",
        "with open('titanic_survivors_predictor.pkl', 'rb') as file:\n",
        "    loaded_data = pickle.load(file)\n",
        "    model = loaded_data['model']\n",
        "\n",
        "# Function to take user input and prepare the data for prediction\n",
        "def get_user_input():\n",
        "    print(\"Please provide the following details to predict survival on the Titanic:\")\n",
        "    Pclass = int(input(\"Passenger Class (1, 2, 3): \"))\n",
        "    Sex = input(\"Sex (male/female): \").strip().lower()\n",
        "    Parch = int(input(\"Number of Parents/Children aboard the Titanic: \"))\n",
        "    Fare = float(input(\"Passenger Fare: \"))\n",
        "    Embarked = input(\"Port of Embarkation (C = Cherbourg; Q = Queenstown; S = Southampton): \"\n",
        "                    ).strip().upper()\n",
        "\n",
        "    # Convert categorical inputs to numerical values\n",
        "    Sex = 1 if Sex == 'male' else 0\n",
        "\n",
        "    # One-hot encoding for 'Embarked'\n",
        "    Embarked_C, Embarked_Q, Embarked_S = 0, 0, 0\n",
        "    if Embarked == 'C':\n",
        "        Embarked_C = 1\n",
        "    elif Embarked == 'Q':\n",
        "        Embarked_Q = 1\n",
        "    elif Embarked == 'S':\n",
        "        Embarked_S = 1\n",
        "\n",
        "    # Prepare the input data in the order the model expects\n",
        "    user_data = np.array([Pclass, Sex, Parch, Fare, Embarked_C, Embarked_S]).reshape(1, -1)\n",
        "    return user_data\n",
        "\n",
        "# Get user input\n",
        "user_input = get_user_input()\n",
        "\n",
        "# Make prediction\n",
        "prediction = model.predict(user_input)\n",
        "\n",
        "# Output the result\n",
        "if prediction[0] == 1:\n",
        "    print(\"\\nPrediction: Survived\")\n",
        "else:\n",
        "    print(\"\\nPrediction: Did not survive\")"
      ]
    },
    {
      "cell_type": "code",
      "execution_count": null,
      "id": "04c8ed0a-c8cb-45a1-99d0-a86339150b74",
      "metadata": {
        "id": "04c8ed0a-c8cb-45a1-99d0-a86339150b74",
        "outputId": "a55955eb-6d98-4a32-bbec-e49db0d55b1c"
      },
      "outputs": [
        {
          "data": {
            "text/plain": [
              "'\\n# Sample input\\n\\nPassenger Class (1, 2, 3):  3\\nSex (male/female):  male\\nNumber of Parents/Children aboard the Titanic:  0\\nPassenger Fare:  20\\nPort of Embarkation (C = Cherbourg; Q = Queenstown; S = Southampton):  S\\n\\n# Sample output\\nPrediction: Did not survive\\n'"
            ]
          },
          "execution_count": 41,
          "metadata": {},
          "output_type": "execute_result"
        }
      ],
      "source": [
        "'''\n",
        "# Sample input\n",
        "\n",
        "Passenger Class (1, 2, 3):  3\n",
        "Sex (male/female):  male\n",
        "Number of Parents/Children aboard the Titanic:  0\n",
        "Passenger Fare:  20\n",
        "Port of Embarkation (C = Cherbourg; Q = Queenstown; S = Southampton):  S\n",
        "\n",
        "# Sample output\n",
        "Prediction: Did not survive\n",
        "'''"
      ]
    }
  ],
  "metadata": {
    "kernelspec": {
      "display_name": "Python 3 (ipykernel)",
      "language": "python",
      "name": "python3"
    },
    "language_info": {
      "codemirror_mode": {
        "name": "ipython",
        "version": 3
      },
      "file_extension": ".py",
      "mimetype": "text/x-python",
      "name": "python",
      "nbconvert_exporter": "python",
      "pygments_lexer": "ipython3",
      "version": "3.12.4"
    },
    "colab": {
      "provenance": [],
      "include_colab_link": true
    }
  },
  "nbformat": 4,
  "nbformat_minor": 5
}